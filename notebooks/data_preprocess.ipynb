{
 "metadata": {
  "language_info": {
   "codemirror_mode": {
    "name": "ipython",
    "version": 3
   },
   "file_extension": ".py",
   "mimetype": "text/x-python",
   "name": "python",
   "nbconvert_exporter": "python",
   "pygments_lexer": "ipython3",
   "version": "3.8.5-final"
  },
  "orig_nbformat": 2,
  "kernelspec": {
   "name": "python3",
   "display_name": "Python 3.8.5 64-bit ('dev': conda)",
   "metadata": {
    "interpreter": {
     "hash": "e4b0b22f2d11f0434fb63a0921ec7188e32e93a8a281a6177dd07dbc04641f69"
    }
   }
  }
 },
 "nbformat": 4,
 "nbformat_minor": 2,
 "cells": [
  {
   "cell_type": "code",
   "execution_count": 1,
   "metadata": {},
   "outputs": [],
   "source": [
    "import re\n",
    "import pandas as pd\n",
    "import jieba as jb"
   ]
  },
  {
   "cell_type": "code",
   "execution_count": 2,
   "metadata": {},
   "outputs": [],
   "source": [
    "ds_path='../data/train.csv'\n",
    "save_preprocessed_ds_path='../data/train_preprocessed.csv'"
   ]
  },
  {
   "cell_type": "code",
   "execution_count": 3,
   "metadata": {},
   "outputs": [],
   "source": [
    "# 数据预处理函数\n",
    "## 去除符号\n",
    "# def remove_punctuation(line):\n",
    "#     line = str(line)\n",
    "#     if line.strip()=='':\n",
    "#         return ''\n",
    "#     rule = re.compile(u\"[^a-zA-Z0-9\\u4E00-\\u9FA5\\u0021\\u003F\\uFF1F\\uFF01]\")\n",
    "#     line = rule.sub('',line)\n",
    "#     return line"
   ]
  },
  {
   "cell_type": "code",
   "execution_count": 4,
   "metadata": {},
   "outputs": [
    {
     "output_type": "stream",
     "name": "stderr",
     "text": [
      "Building prefix dict from the default dictionary ...\n",
      "Loading model from cache /var/folders/r1/54ysm_ls155b6bk8ccxch08r0000gn/T/jieba.cache\n",
      "38471\n",
      "Loading model cost 0.556 seconds.\n",
      "Prefix dict has been built successfully.\n",
      "38283\n"
     ]
    },
    {
     "output_type": "execute_result",
     "data": {
      "text/plain": [
       "                                     id  \\\n",
       "14614  02d3d5f306044065fc4b61d5184b35a8   \n",
       "12825  22d007b5d9b4a2d888bd939f6dc55c65   \n",
       "25437  7add115dcdfce99548e2164edba79516   \n",
       "22094  f735221fc105180a0fee2f820728638e   \n",
       "13982  26b0667794eaec09f0323a88554c96bc   \n",
       "33793  8be255560bd7b229793012a7479084ea   \n",
       "7948   f0b83f9fc97042a9ad10613002f1a68b   \n",
       "6504   4c331f8384d3796ce6f41c5dcad6fa29   \n",
       "33779  ef3838cf64b6ba71f76bf9008a19dd1a   \n",
       "35932  3111927f41e79148aad40f842e4f92df   \n",
       "\n",
       "                                                    text  label  \\\n",
       "14614  #三十六格##上海婚纱照#2018让我们的欧美情绪和独一无二的色调，冲击大家的视觉味蕾吧。感...      0   \n",
       "12825  一定不去进影院，大家一起为《贞子》票房为零，做努力！中国人拍的《金陵十三钗》在日本小鬼子票房...      1   \n",
       "25437  110已证实不是假的！大家注意！紧急通知：家里有孩子的大人都看好了，江苏省来了1000多外地...      1   \n",
       "22094  (谁的群最多，帮忙转一下，找一名职中学生，叫刘冻雪，16岁，请速回鲁甸县医院，妈妈在地震伤的...      1   \n",
       "13982  【说好的AA制聚餐大家都闪了他爬树逃单摔成重伤】5日,重庆男子熊某与朋友在酒店二楼聚餐,说好...      0   \n",
       "33793  花莲再发强烈余震，据中国地震台网正式测定，2月7日23时21分在台湾花莲县附近海域发生6.1...      0   \n",
       "7948   【女生身高超过165cm就是怪兽？日本“高妹”大吐苦水】近日，一位日本女网友发帖吐槽：我身高...      0   \n",
       "6504                      【一位校长的绝密讲座！给你讲解空姐的某些事！禁止外传的视频】      0   \n",
       "33779  【监控视频：野生动物园老虎袭人致1死1伤】昨天下午，几名游客自驾进北京八达岭野生动物园，一女...      0   \n",
       "35932  【沙特到底有多少王子？这才是正确的打开方式】原标题：沙特到底有多少王子？这才是正确的打开方式...      0   \n",
       "\n",
       "                                             cutted_text  \n",
       "14614  # 三十六 格 ## 上海 婚纱照 # 2018 让 我们 的 欧美 情绪 和 独一无二 的...  \n",
       "12825  一定 不去 进影院 ， 大家 一起 为 《 贞子 》 票房 为 零 ， 做 努力 ！ 中国 ...  \n",
       "25437  110 已 证实 不是 假 的 ！ 大家 注意 ！ 紧急通知 ： 家里 有 孩子 的 大人 ...  \n",
       "22094  ( 谁 的 群 最 多 ， 帮忙 转 一下 ， 找 一名 职 中学生 ， 叫 刘冻雪 ， 1...  \n",
       "13982  【 说好 的 AA制 聚餐 大家 都 闪 了 他 爬树 逃单 摔成 重伤 】 5 日 , 重...  \n",
       "33793  花莲 再发 强烈 余震 ， 据 中国 地震 台网 正式 测定 ， 2 月 7 日 23 时 ...  \n",
       "7948   【 女生 身高 超过 165cm 就是 怪兽 ？ 日本 “ 高妹 ” 大吐苦水 】 近日 ，...  \n",
       "6504   【 一位 校长 的 绝密 讲座 ！ 给 你 讲解 空姐 的 某些 事 ！ 禁止 外传 的 视频 】  \n",
       "33779  【 监控 视频 ： 野生 动物园 老虎 袭人致 1 死 1 伤 】 昨天下午 ， 几名 游客...  \n",
       "35932  【 沙特 到底 有 多少 王子 ？ 这才 是 正确 的 打开方式 】 原 标题 ： 沙特 到...  "
      ],
      "text/html": "<div>\n<style scoped>\n    .dataframe tbody tr th:only-of-type {\n        vertical-align: middle;\n    }\n\n    .dataframe tbody tr th {\n        vertical-align: top;\n    }\n\n    .dataframe thead th {\n        text-align: right;\n    }\n</style>\n<table border=\"1\" class=\"dataframe\">\n  <thead>\n    <tr style=\"text-align: right;\">\n      <th></th>\n      <th>id</th>\n      <th>text</th>\n      <th>label</th>\n      <th>cutted_text</th>\n    </tr>\n  </thead>\n  <tbody>\n    <tr>\n      <th>14614</th>\n      <td>02d3d5f306044065fc4b61d5184b35a8</td>\n      <td>#三十六格##上海婚纱照#2018让我们的欧美情绪和独一无二的色调，冲击大家的视觉味蕾吧。感...</td>\n      <td>0</td>\n      <td># 三十六 格 ## 上海 婚纱照 # 2018 让 我们 的 欧美 情绪 和 独一无二 的...</td>\n    </tr>\n    <tr>\n      <th>12825</th>\n      <td>22d007b5d9b4a2d888bd939f6dc55c65</td>\n      <td>一定不去进影院，大家一起为《贞子》票房为零，做努力！中国人拍的《金陵十三钗》在日本小鬼子票房...</td>\n      <td>1</td>\n      <td>一定 不去 进影院 ， 大家 一起 为 《 贞子 》 票房 为 零 ， 做 努力 ！ 中国 ...</td>\n    </tr>\n    <tr>\n      <th>25437</th>\n      <td>7add115dcdfce99548e2164edba79516</td>\n      <td>110已证实不是假的！大家注意！紧急通知：家里有孩子的大人都看好了，江苏省来了1000多外地...</td>\n      <td>1</td>\n      <td>110 已 证实 不是 假 的 ！ 大家 注意 ！ 紧急通知 ： 家里 有 孩子 的 大人 ...</td>\n    </tr>\n    <tr>\n      <th>22094</th>\n      <td>f735221fc105180a0fee2f820728638e</td>\n      <td>(谁的群最多，帮忙转一下，找一名职中学生，叫刘冻雪，16岁，请速回鲁甸县医院，妈妈在地震伤的...</td>\n      <td>1</td>\n      <td>( 谁 的 群 最 多 ， 帮忙 转 一下 ， 找 一名 职 中学生 ， 叫 刘冻雪 ， 1...</td>\n    </tr>\n    <tr>\n      <th>13982</th>\n      <td>26b0667794eaec09f0323a88554c96bc</td>\n      <td>【说好的AA制聚餐大家都闪了他爬树逃单摔成重伤】5日,重庆男子熊某与朋友在酒店二楼聚餐,说好...</td>\n      <td>0</td>\n      <td>【 说好 的 AA制 聚餐 大家 都 闪 了 他 爬树 逃单 摔成 重伤 】 5 日 , 重...</td>\n    </tr>\n    <tr>\n      <th>33793</th>\n      <td>8be255560bd7b229793012a7479084ea</td>\n      <td>花莲再发强烈余震，据中国地震台网正式测定，2月7日23时21分在台湾花莲县附近海域发生6.1...</td>\n      <td>0</td>\n      <td>花莲 再发 强烈 余震 ， 据 中国 地震 台网 正式 测定 ， 2 月 7 日 23 时 ...</td>\n    </tr>\n    <tr>\n      <th>7948</th>\n      <td>f0b83f9fc97042a9ad10613002f1a68b</td>\n      <td>【女生身高超过165cm就是怪兽？日本“高妹”大吐苦水】近日，一位日本女网友发帖吐槽：我身高...</td>\n      <td>0</td>\n      <td>【 女生 身高 超过 165cm 就是 怪兽 ？ 日本 “ 高妹 ” 大吐苦水 】 近日 ，...</td>\n    </tr>\n    <tr>\n      <th>6504</th>\n      <td>4c331f8384d3796ce6f41c5dcad6fa29</td>\n      <td>【一位校长的绝密讲座！给你讲解空姐的某些事！禁止外传的视频】</td>\n      <td>0</td>\n      <td>【 一位 校长 的 绝密 讲座 ！ 给 你 讲解 空姐 的 某些 事 ！ 禁止 外传 的 视频 】</td>\n    </tr>\n    <tr>\n      <th>33779</th>\n      <td>ef3838cf64b6ba71f76bf9008a19dd1a</td>\n      <td>【监控视频：野生动物园老虎袭人致1死1伤】昨天下午，几名游客自驾进北京八达岭野生动物园，一女...</td>\n      <td>0</td>\n      <td>【 监控 视频 ： 野生 动物园 老虎 袭人致 1 死 1 伤 】 昨天下午 ， 几名 游客...</td>\n    </tr>\n    <tr>\n      <th>35932</th>\n      <td>3111927f41e79148aad40f842e4f92df</td>\n      <td>【沙特到底有多少王子？这才是正确的打开方式】原标题：沙特到底有多少王子？这才是正确的打开方式...</td>\n      <td>0</td>\n      <td>【 沙特 到底 有 多少 王子 ？ 这才 是 正确 的 打开方式 】 原 标题 ： 沙特 到...</td>\n    </tr>\n  </tbody>\n</table>\n</div>"
     },
     "metadata": {},
     "execution_count": 4
    }
   ],
   "source": [
    "data_df=pd.read_csv(ds_path) # 0 真， 1 假\n",
    "\n",
    "# 数据预处理\n",
    "print(len(data_df))\n",
    "# data_df['cutted_text']=data_df['text'].apply(remove_punctuation) # 去除符号\n",
    "data_df['cutted_text']=data_df['text'].apply(lambda x: \" \".join([w for w in list(jb.cut(x))])) # 分词\n",
    "## 去除长度小于10的文本\n",
    "data_df=data_df.drop(data_df[data_df['text'].str.len()<=10].index)\n",
    "print(len(data_df))\n",
    "data_df.sample(10)"
   ]
  },
  {
   "cell_type": "code",
   "execution_count": 5,
   "metadata": {},
   "outputs": [],
   "source": [
    "data_df.to_csv(save_preprocessed_ds_path,index=False)"
   ]
  },
  {
   "cell_type": "code",
   "execution_count": null,
   "metadata": {},
   "outputs": [],
   "source": []
  }
 ]
}