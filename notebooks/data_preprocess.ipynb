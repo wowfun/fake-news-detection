{
 "metadata": {
  "language_info": {
   "codemirror_mode": {
    "name": "ipython",
    "version": 3
   },
   "file_extension": ".py",
   "mimetype": "text/x-python",
   "name": "python",
   "nbconvert_exporter": "python",
   "pygments_lexer": "ipython3",
   "version": "3.8.5-final"
  },
  "orig_nbformat": 2,
  "kernelspec": {
   "name": "python3",
   "display_name": "Python 3.8.5 64-bit ('dev': conda)",
   "metadata": {
    "interpreter": {
     "hash": "e4b0b22f2d11f0434fb63a0921ec7188e32e93a8a281a6177dd07dbc04641f69"
    }
   }
  }
 },
 "nbformat": 4,
 "nbformat_minor": 2,
 "cells": [
  {
   "cell_type": "code",
   "execution_count": 1,
   "metadata": {},
   "outputs": [],
   "source": [
    "import re\n",
    "import pandas as pd\n",
    "import jieba as jb"
   ]
  },
  {
   "cell_type": "code",
   "execution_count": 2,
   "metadata": {},
   "outputs": [],
   "source": [
    "ds_path='../data/train.csv'\n",
    "save_preprocessed_ds_path='../data/train_preprocessed.csv'"
   ]
  },
  {
   "cell_type": "code",
   "execution_count": 3,
   "metadata": {},
   "outputs": [],
   "source": [
    "# 数据预处理函数\n",
    "## 去除符号\n",
    "# def remove_punctuation(line):\n",
    "#     line = str(line)\n",
    "#     if line.strip()=='':\n",
    "#         return ''\n",
    "#     rule = re.compile(u\"[^a-zA-Z0-9\\u4E00-\\u9FA5\\u0021\\u003F\\uFF1F\\uFF01]\")\n",
    "#     line = rule.sub('',line)\n",
    "#     return line"
   ]
  },
  {
   "cell_type": "code",
   "execution_count": 4,
   "metadata": {},
   "outputs": [
    {
     "output_type": "stream",
     "name": "stderr",
     "text": [
      "Building prefix dict from the default dictionary ...\n",
      "38471\n",
      "Dumping model to file cache /var/folders/r1/54ysm_ls155b6bk8ccxch08r0000gn/T/jieba.cache\n",
      "Loading model cost 0.656 seconds.\n",
      "Prefix dict has been built successfully.\n",
      "38283\n"
     ]
    },
    {
     "output_type": "execute_result",
     "data": {
      "text/plain": [
       "                                     id  \\\n",
       "35382  90665fc8b78aa818e75cfe6eea2eff2b   \n",
       "10228  2d791cdcb2e75c539c33d0dec3d4b3f0   \n",
       "37592  e50f34272dfb3d1e07da1c5e70038ffc   \n",
       "4719   831f8aa05b05e5edaf9a949fe4abdf6d   \n",
       "5104   61ee2dc0bb75abe911bc4d5e7c918afb   \n",
       "11304  23475f83f0ace644fb537f3c9d1e252e   \n",
       "12659  f9d3d2bd9d1ada4a18c5439fff688f2c   \n",
       "23288  a97bead17f2f858bdc976587080a45be   \n",
       "2205   41e3bd63b5e0c1a1ddbb8c934853cb50   \n",
       "14567  d90ca41f9d0fecfb09f24aec94bf2959   \n",
       "\n",
       "                                                    text  label  \\\n",
       "35382  什么是笫六感？心里想了，没说出来，然后发生了……今天一天，超强第六感……下了船又上了船，刚中...      0   \n",
       "10228  急找孩子，求转，求帮忙实验小学寻人启事13759695559帮忙扩散，今天上午一个三岁多小女...      1   \n",
       "37592  杭州纵火案受害者家属@老婆孩子在天堂林爸爸住院了。是体病？还是心病？还是没有公道的心死绝望？...      0   \n",
       "4719   【上海一送奶车侧翻路人哄抢盒装牛奶】今天上午,沪闵行区龙吴路近放鹤路口,一辆送奶卡车发生侧翻...      0   \n",
       "5104   6月27日，原计划12：40起飞的南航CZ380航班（浦东——广州），因一名老年旅客在登机过...      0   \n",
       "11304  #刘老师的课#想给慈化曾坊小学六年级的学生收集点《意林》之类的杂志以提高阅读面，求帮忙捐赠@...      0   \n",
       "12659  看#IgA肾病#患者有无其他检验指标上的异常：如血尿素氮、肌酸、肌酐明显升高，肌酐清除率明显...      0   \n",
       "23288  请大家5月13号一定别进影院，大家一起为《贞子》票房为零，做努力！中国人拍的《金陵十三钗》在...      1   \n",
       "2205   #乔任梁#【乔任梁惹人开骂】乔任梁SM据爆料：乔任梁与某知名男导演SM时死亡，但不知真假求证...      1   \n",
       "14567  今天邵逸夫先生出殡了。乔布斯去世的时候，我们中国人铺天卷地的刷屏，而邵逸夫去世了，却没有看见...      1   \n",
       "\n",
       "                                             cutted_text  \n",
       "35382  什么 是 笫 六感 ？ 心里 想 了 ， 没说 出来 ， 然后 发生 了 … … 今天 一天...  \n",
       "10228  急 找 孩子 ， 求转 ， 求 帮忙 实验 小学 寻人启事 13759695559 帮忙 扩...  \n",
       "37592  杭州 纵火案 受害者 家属 @ 老婆 孩子 在 天堂 林 爸爸 住院 了 。 是 体病 ？ ...  \n",
       "4719   【 上海 一送 奶车 侧翻 路 人 哄抢 盒装 牛奶 】 今天上午 , 沪 闵行区 龙吴 路...  \n",
       "5104   6 月 27 日 ， 原 计划 12 ： 40 起飞 的 南航 CZ380 航班 （ 浦东 ...  \n",
       "11304  # 刘老师 的 课 # 想 给 慈化 曾坊 小学 六年级 的 学生 收集 点 《 意林 》 ...  \n",
       "12659  看 # IgA 肾病 # 患者 有无 其他 检验 指标 上 的 异常 ： 如血 尿素氮 、 ...  \n",
       "23288  请 大家 5 月 13 号 一定 别 进影院 ， 大家 一起 为 《 贞子 》 票房 为 零...  \n",
       "2205   # 乔任 梁 # 【 乔任 梁惹 人开 骂 】 乔任 梁 SM 据 爆料 ： 乔任 梁 与 ...  \n",
       "14567  今天 邵逸夫 先生 出殡 了 。 乔布斯 去世 的 时候 ， 我们 中国 人铺 天卷 地 的...  "
      ],
      "text/html": "<div>\n<style scoped>\n    .dataframe tbody tr th:only-of-type {\n        vertical-align: middle;\n    }\n\n    .dataframe tbody tr th {\n        vertical-align: top;\n    }\n\n    .dataframe thead th {\n        text-align: right;\n    }\n</style>\n<table border=\"1\" class=\"dataframe\">\n  <thead>\n    <tr style=\"text-align: right;\">\n      <th></th>\n      <th>id</th>\n      <th>text</th>\n      <th>label</th>\n      <th>cutted_text</th>\n    </tr>\n  </thead>\n  <tbody>\n    <tr>\n      <th>35382</th>\n      <td>90665fc8b78aa818e75cfe6eea2eff2b</td>\n      <td>什么是笫六感？心里想了，没说出来，然后发生了……今天一天，超强第六感……下了船又上了船，刚中...</td>\n      <td>0</td>\n      <td>什么 是 笫 六感 ？ 心里 想 了 ， 没说 出来 ， 然后 发生 了 … … 今天 一天...</td>\n    </tr>\n    <tr>\n      <th>10228</th>\n      <td>2d791cdcb2e75c539c33d0dec3d4b3f0</td>\n      <td>急找孩子，求转，求帮忙实验小学寻人启事13759695559帮忙扩散，今天上午一个三岁多小女...</td>\n      <td>1</td>\n      <td>急 找 孩子 ， 求转 ， 求 帮忙 实验 小学 寻人启事 13759695559 帮忙 扩...</td>\n    </tr>\n    <tr>\n      <th>37592</th>\n      <td>e50f34272dfb3d1e07da1c5e70038ffc</td>\n      <td>杭州纵火案受害者家属@老婆孩子在天堂林爸爸住院了。是体病？还是心病？还是没有公道的心死绝望？...</td>\n      <td>0</td>\n      <td>杭州 纵火案 受害者 家属 @ 老婆 孩子 在 天堂 林 爸爸 住院 了 。 是 体病 ？ ...</td>\n    </tr>\n    <tr>\n      <th>4719</th>\n      <td>831f8aa05b05e5edaf9a949fe4abdf6d</td>\n      <td>【上海一送奶车侧翻路人哄抢盒装牛奶】今天上午,沪闵行区龙吴路近放鹤路口,一辆送奶卡车发生侧翻...</td>\n      <td>0</td>\n      <td>【 上海 一送 奶车 侧翻 路 人 哄抢 盒装 牛奶 】 今天上午 , 沪 闵行区 龙吴 路...</td>\n    </tr>\n    <tr>\n      <th>5104</th>\n      <td>61ee2dc0bb75abe911bc4d5e7c918afb</td>\n      <td>6月27日，原计划12：40起飞的南航CZ380航班（浦东——广州），因一名老年旅客在登机过...</td>\n      <td>0</td>\n      <td>6 月 27 日 ， 原 计划 12 ： 40 起飞 的 南航 CZ380 航班 （ 浦东 ...</td>\n    </tr>\n    <tr>\n      <th>11304</th>\n      <td>23475f83f0ace644fb537f3c9d1e252e</td>\n      <td>#刘老师的课#想给慈化曾坊小学六年级的学生收集点《意林》之类的杂志以提高阅读面，求帮忙捐赠@...</td>\n      <td>0</td>\n      <td># 刘老师 的 课 # 想 给 慈化 曾坊 小学 六年级 的 学生 收集 点 《 意林 》 ...</td>\n    </tr>\n    <tr>\n      <th>12659</th>\n      <td>f9d3d2bd9d1ada4a18c5439fff688f2c</td>\n      <td>看#IgA肾病#患者有无其他检验指标上的异常：如血尿素氮、肌酸、肌酐明显升高，肌酐清除率明显...</td>\n      <td>0</td>\n      <td>看 # IgA 肾病 # 患者 有无 其他 检验 指标 上 的 异常 ： 如血 尿素氮 、 ...</td>\n    </tr>\n    <tr>\n      <th>23288</th>\n      <td>a97bead17f2f858bdc976587080a45be</td>\n      <td>请大家5月13号一定别进影院，大家一起为《贞子》票房为零，做努力！中国人拍的《金陵十三钗》在...</td>\n      <td>1</td>\n      <td>请 大家 5 月 13 号 一定 别 进影院 ， 大家 一起 为 《 贞子 》 票房 为 零...</td>\n    </tr>\n    <tr>\n      <th>2205</th>\n      <td>41e3bd63b5e0c1a1ddbb8c934853cb50</td>\n      <td>#乔任梁#【乔任梁惹人开骂】乔任梁SM据爆料：乔任梁与某知名男导演SM时死亡，但不知真假求证...</td>\n      <td>1</td>\n      <td># 乔任 梁 # 【 乔任 梁惹 人开 骂 】 乔任 梁 SM 据 爆料 ： 乔任 梁 与 ...</td>\n    </tr>\n    <tr>\n      <th>14567</th>\n      <td>d90ca41f9d0fecfb09f24aec94bf2959</td>\n      <td>今天邵逸夫先生出殡了。乔布斯去世的时候，我们中国人铺天卷地的刷屏，而邵逸夫去世了，却没有看见...</td>\n      <td>1</td>\n      <td>今天 邵逸夫 先生 出殡 了 。 乔布斯 去世 的 时候 ， 我们 中国 人铺 天卷 地 的...</td>\n    </tr>\n  </tbody>\n</table>\n</div>"
     },
     "metadata": {},
     "execution_count": 4
    }
   ],
   "source": [
    "data_df=pd.read_csv(ds_path) # 0 真， 1 假\n",
    "\n",
    "# 数据预处理\n",
    "print(len(data_df))\n",
    "# data_df['cutted_text']=data_df['text'].apply(remove_punctuation) # 去除符号\n",
    "data_df['cutted_text']=data_df['text'].apply(lambda x: \" \".join([w for w in list(jb.cut(x))])) # 分词\n",
    "## 去除长度小于10的文本\n",
    "data_df=data_df.drop(data_df[data_df['text'].str.len()<=10].index)\n",
    "print(len(data_df))\n",
    "data_df.sample(10)"
   ]
  },
  {
   "cell_type": "code",
   "execution_count": 5,
   "metadata": {},
   "outputs": [],
   "source": [
    "data_df.to_csv(save_preprocessed_ds_path,index=False)"
   ]
  },
  {
   "cell_type": "code",
   "execution_count": null,
   "metadata": {},
   "outputs": [],
   "source": []
  }
 ]
}