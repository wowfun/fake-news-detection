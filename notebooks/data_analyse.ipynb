{
 "metadata": {
  "language_info": {
   "codemirror_mode": {
    "name": "ipython",
    "version": 3
   },
   "file_extension": ".py",
   "mimetype": "text/x-python",
   "name": "python",
   "nbconvert_exporter": "python",
   "pygments_lexer": "ipython3",
   "version": "3.7.4-final"
  },
  "orig_nbformat": 2,
  "kernelspec": {
   "name": "python37464bitanaconda3virtualenv97d0d7577c3c471d93e608bb2843c54d",
   "display_name": "Python 3.7.4 64-bit ('anaconda3': virtualenv)"
  }
 },
 "nbformat": 4,
 "nbformat_minor": 2,
 "cells": [
  {
   "cell_type": "code",
   "execution_count": 1,
   "metadata": {},
   "outputs": [],
   "source": [
    "import pandas as pd"
   ]
  },
  {
   "cell_type": "code",
   "execution_count": 2,
   "metadata": {},
   "outputs": [],
   "source": [
    "ds_path='../data/train_preprocessed.csv'\n"
   ]
  },
  {
   "cell_type": "code",
   "execution_count": 3,
   "metadata": {},
   "outputs": [
    {
     "output_type": "execute_result",
     "data": {
      "text/plain": [
       "       Unnamed: 0                                id  \\\n",
       "0               0  09766d6ec92a9eff7f8763f9f9fee14f   \n",
       "1               1  1cdf439752d339b45fc848984c609899   \n",
       "2               2  d3aa07cc41ab42fa5c8718bd655abb1c   \n",
       "3               3  e940e98292b76024dfbcbcff378c9d2f   \n",
       "4               4  21b667ed6784407bf5562a400c72bb3f   \n",
       "...           ...                               ...   \n",
       "38278       38466  a8d0e150980deb5add3199e1dc2716f6   \n",
       "38279       38467  2448e0238bfdc035fe9beb13f8a0c360   \n",
       "38280       38468  8d5ee646888ecad1655fe60015d9a1ef   \n",
       "38281       38469  452cf2b5806a475b17c8b05ff0ea2d1d   \n",
       "38282       38470  665355da48b0c54aca3dbf0715a5a25a   \n",
       "\n",
       "                                                    text  label  \\\n",
       "0      ＂李的76人律师团领队、法律大学副校长张爱国教授对媒体表示，李天一因第一个与被害女子发生性关...      1   \n",
       "1                         【男子捏造“周浦滴滴司机砍死乘客”谣言被刑拘称只是觉得好玩】      0   \n",
       "2      【善良的大桥】金沙江大桥在没车行走的时候自我坍塌，这桥通人性，未伤一车一人，太善良了。应该当...      1   \n",
       "3      幼儿园都发通知了，家长们注意啦：现在得白血病的小孩越来越多，妇幼保健院提示您，请不要给宝宝喝...      1   \n",
       "4                        上海4000吨垃圾偷倒苏州太湖西山岛(图)（分享自@新浪新闻）      0   \n",
       "...                                                  ...    ...   \n",
       "38278  紧急通知：铁岭西丰开始封道了，这面有个黑牛场牛死了，工人给牛扒皮结果人高烧不退，浑身溃烂导致...      1   \n",
       "38279  【陕西一孕妇颈部卡防护栏后身亡】28日，陕西榆林一女子双腿跪地、脖子卡在路边交通防护栏后没有...      0   \n",
       "38280  【“二更食堂”消费空姐遇害被关停：我们需要怎样的;10万+;？】;空姐乘坐顺风车遇害;案件中...      0   \n",
       "38281  【是谁给了中国人双休日】1994年前后，中美入世谈判最艰难的时刻，美方突然向中方提出：在全世...      1   \n",
       "38282  #东北师范大学盲人学生#？？？现在都流行“我弱我有理”么？既然非得上统招学校，为什么还非要特...      0   \n",
       "\n",
       "                                             cutted_text  \n",
       "0      ＂ 李 的 76 人 律师团 领队 、 法律 大学 副校长 张 爱国 教授 对 媒体 表示 ...  \n",
       "1        【 男子 捏造 “ 周浦 滴滴 司机 砍死 乘客 ” 谣言 被 刑拘 称 只是 觉得 好玩 】  \n",
       "2      【 善良 的 大桥 】 金沙江 大桥 在 没车 行走 的 时候 自我 坍塌 ， 这桥通 人性...  \n",
       "3      幼儿园 都 发 通知 了 ， 家长 们 注意 啦 ： 现在 得 白血病 的 小孩 越来越 多...  \n",
       "4      上海 4000 吨 垃圾 偷倒 苏州 太湖 西山 岛 ( 图 ) （ 分享 自 @ 新浪 新闻 ）  \n",
       "...                                                  ...  \n",
       "38278  紧急通知 ： 铁岭 西丰 开始 封道 了 ， 这面 有个 黑牛场 牛 死 了 ， 工人 给 ...  \n",
       "38279  【 陕西 一 孕妇 颈部 卡 防护栏 后 身亡 】 28 日 ， 陕西 榆林 一 女子 双腿...  \n",
       "38280  【 “ 二 更 食堂 ” 消费 空姐 遇害 被 关停 ： 我们 需要 怎样 的 ; 10 万...  \n",
       "38281  【 是 谁给了 中国 人 双休日 】 1994 年 前后 ， 中 美 入世 谈判 最 艰难 ...  \n",
       "38282  # 东北师范大学 盲人 学生 # ？ ？ ？ 现在 都 流行 “ 我弱 我 有理 ” 么 ？...  \n",
       "\n",
       "[38283 rows x 5 columns]"
      ],
      "text/html": "<div>\n<style scoped>\n    .dataframe tbody tr th:only-of-type {\n        vertical-align: middle;\n    }\n\n    .dataframe tbody tr th {\n        vertical-align: top;\n    }\n\n    .dataframe thead th {\n        text-align: right;\n    }\n</style>\n<table border=\"1\" class=\"dataframe\">\n  <thead>\n    <tr style=\"text-align: right;\">\n      <th></th>\n      <th>Unnamed: 0</th>\n      <th>id</th>\n      <th>text</th>\n      <th>label</th>\n      <th>cutted_text</th>\n    </tr>\n  </thead>\n  <tbody>\n    <tr>\n      <th>0</th>\n      <td>0</td>\n      <td>09766d6ec92a9eff7f8763f9f9fee14f</td>\n      <td>＂李的76人律师团领队、法律大学副校长张爱国教授对媒体表示，李天一因第一个与被害女子发生性关...</td>\n      <td>1</td>\n      <td>＂ 李 的 76 人 律师团 领队 、 法律 大学 副校长 张 爱国 教授 对 媒体 表示 ...</td>\n    </tr>\n    <tr>\n      <th>1</th>\n      <td>1</td>\n      <td>1cdf439752d339b45fc848984c609899</td>\n      <td>【男子捏造“周浦滴滴司机砍死乘客”谣言被刑拘称只是觉得好玩】</td>\n      <td>0</td>\n      <td>【 男子 捏造 “ 周浦 滴滴 司机 砍死 乘客 ” 谣言 被 刑拘 称 只是 觉得 好玩 】</td>\n    </tr>\n    <tr>\n      <th>2</th>\n      <td>2</td>\n      <td>d3aa07cc41ab42fa5c8718bd655abb1c</td>\n      <td>【善良的大桥】金沙江大桥在没车行走的时候自我坍塌，这桥通人性，未伤一车一人，太善良了。应该当...</td>\n      <td>1</td>\n      <td>【 善良 的 大桥 】 金沙江 大桥 在 没车 行走 的 时候 自我 坍塌 ， 这桥通 人性...</td>\n    </tr>\n    <tr>\n      <th>3</th>\n      <td>3</td>\n      <td>e940e98292b76024dfbcbcff378c9d2f</td>\n      <td>幼儿园都发通知了，家长们注意啦：现在得白血病的小孩越来越多，妇幼保健院提示您，请不要给宝宝喝...</td>\n      <td>1</td>\n      <td>幼儿园 都 发 通知 了 ， 家长 们 注意 啦 ： 现在 得 白血病 的 小孩 越来越 多...</td>\n    </tr>\n    <tr>\n      <th>4</th>\n      <td>4</td>\n      <td>21b667ed6784407bf5562a400c72bb3f</td>\n      <td>上海4000吨垃圾偷倒苏州太湖西山岛(图)（分享自@新浪新闻）</td>\n      <td>0</td>\n      <td>上海 4000 吨 垃圾 偷倒 苏州 太湖 西山 岛 ( 图 ) （ 分享 自 @ 新浪 新闻 ）</td>\n    </tr>\n    <tr>\n      <th>...</th>\n      <td>...</td>\n      <td>...</td>\n      <td>...</td>\n      <td>...</td>\n      <td>...</td>\n    </tr>\n    <tr>\n      <th>38278</th>\n      <td>38466</td>\n      <td>a8d0e150980deb5add3199e1dc2716f6</td>\n      <td>紧急通知：铁岭西丰开始封道了，这面有个黑牛场牛死了，工人给牛扒皮结果人高烧不退，浑身溃烂导致...</td>\n      <td>1</td>\n      <td>紧急通知 ： 铁岭 西丰 开始 封道 了 ， 这面 有个 黑牛场 牛 死 了 ， 工人 给 ...</td>\n    </tr>\n    <tr>\n      <th>38279</th>\n      <td>38467</td>\n      <td>2448e0238bfdc035fe9beb13f8a0c360</td>\n      <td>【陕西一孕妇颈部卡防护栏后身亡】28日，陕西榆林一女子双腿跪地、脖子卡在路边交通防护栏后没有...</td>\n      <td>0</td>\n      <td>【 陕西 一 孕妇 颈部 卡 防护栏 后 身亡 】 28 日 ， 陕西 榆林 一 女子 双腿...</td>\n    </tr>\n    <tr>\n      <th>38280</th>\n      <td>38468</td>\n      <td>8d5ee646888ecad1655fe60015d9a1ef</td>\n      <td>【“二更食堂”消费空姐遇害被关停：我们需要怎样的;10万+;？】;空姐乘坐顺风车遇害;案件中...</td>\n      <td>0</td>\n      <td>【 “ 二 更 食堂 ” 消费 空姐 遇害 被 关停 ： 我们 需要 怎样 的 ; 10 万...</td>\n    </tr>\n    <tr>\n      <th>38281</th>\n      <td>38469</td>\n      <td>452cf2b5806a475b17c8b05ff0ea2d1d</td>\n      <td>【是谁给了中国人双休日】1994年前后，中美入世谈判最艰难的时刻，美方突然向中方提出：在全世...</td>\n      <td>1</td>\n      <td>【 是 谁给了 中国 人 双休日 】 1994 年 前后 ， 中 美 入世 谈判 最 艰难 ...</td>\n    </tr>\n    <tr>\n      <th>38282</th>\n      <td>38470</td>\n      <td>665355da48b0c54aca3dbf0715a5a25a</td>\n      <td>#东北师范大学盲人学生#？？？现在都流行“我弱我有理”么？既然非得上统招学校，为什么还非要特...</td>\n      <td>0</td>\n      <td># 东北师范大学 盲人 学生 # ？ ？ ？ 现在 都 流行 “ 我弱 我 有理 ” 么 ？...</td>\n    </tr>\n  </tbody>\n</table>\n<p>38283 rows × 5 columns</p>\n</div>"
     },
     "metadata": {},
     "execution_count": 3
    }
   ],
   "source": [
    "data_df=pd.read_csv(ds_path)\n",
    "data_df"
   ]
  },
  {
   "cell_type": "code",
   "execution_count": 4,
   "metadata": {},
   "outputs": [
    {
     "output_type": "execute_result",
     "data": {
      "text/plain": [
       "count    38283.000000\n",
       "mean       190.969987\n",
       "std        157.540297\n",
       "min         15.000000\n",
       "25%        127.000000\n",
       "50%        198.000000\n",
       "75%        221.000000\n",
       "max       3296.000000\n",
       "Name: cutted_text_len, dtype: float64"
      ]
     },
     "metadata": {},
     "execution_count": 4
    }
   ],
   "source": [
    "# 句长分析\n",
    "data_df['cutted_text_len']=data_df['cutted_text'].apply(lambda x:len(str(x)))\n",
    "data_df['cutted_text_len'].describe()"
   ]
  },
  {
   "cell_type": "code",
   "execution_count": 5,
   "metadata": {},
   "outputs": [
    {
     "output_type": "execute_result",
     "data": {
      "text/plain": [
       "Empty DataFrame\n",
       "Columns: [Unnamed: 0, id, text, label, cutted_text, cutted_text_len]\n",
       "Index: []"
      ],
      "text/html": "<div>\n<style scoped>\n    .dataframe tbody tr th:only-of-type {\n        vertical-align: middle;\n    }\n\n    .dataframe tbody tr th {\n        vertical-align: top;\n    }\n\n    .dataframe thead th {\n        text-align: right;\n    }\n</style>\n<table border=\"1\" class=\"dataframe\">\n  <thead>\n    <tr style=\"text-align: right;\">\n      <th></th>\n      <th>Unnamed: 0</th>\n      <th>id</th>\n      <th>text</th>\n      <th>label</th>\n      <th>cutted_text</th>\n      <th>cutted_text_len</th>\n    </tr>\n  </thead>\n  <tbody>\n  </tbody>\n</table>\n</div>"
     },
     "metadata": {},
     "execution_count": 5
    }
   ],
   "source": [
    "data_df[data_df['cutted_text_len']<=10]"
   ]
  },
  {
   "cell_type": "code",
   "execution_count": null,
   "metadata": {},
   "outputs": [],
   "source": []
  }
 ]
}